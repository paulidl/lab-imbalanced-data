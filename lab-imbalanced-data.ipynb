{
 "cells": [
  {
   "cell_type": "markdown",
   "id": "6fc81071",
   "metadata": {},
   "source": [
    "# Lab | Imbalanced data\n",
    "We will be using the files_for_lab/customer_churn.csv dataset to build a churn predictor."
   ]
  },
  {
   "cell_type": "markdown",
   "id": "05a8a9ea",
   "metadata": {},
   "source": [
    "## Instructions"
   ]
  },
  {
   "cell_type": "markdown",
   "id": "39592767",
   "metadata": {},
   "source": [
    "1. Load the dataset and explore the variables.\n",
    "2. We will try to predict variable Churn using a logistic regression on variables tenure, SeniorCitizen,MonthlyCharges.\n",
    "3. Extract the target variable.\n",
    "4. Extract the independent variables and scale them.\n",
    "5. Build the logistic regression model.\n",
    "6. Evaluate the model.\n",
    "7. Even a simple model will give us more than 70% accuracy. Why?\n",
    "8. *Synthetic Minority Oversampling TEchnique (SMOTE)* is an over sampling technique based on nearest neighbors that adds new points between existing points. Apply imblearn.over_sampling.SMOTE to the dataset. Build and evaluate the logistic regression model. Is it there any improvement?\n",
    "9. Tomek links are pairs of very close instances, but of opposite classes. Removing the instances of the majority class of each pair increases the space between the two classes, facilitating the classification process. Apply imblearn.under_sampling.TomekLinks to the dataset. Build and evaluate the logistic regression model. Is it there any improvement?"
   ]
  },
  {
   "cell_type": "code",
   "execution_count": 130,
   "id": "1a42429b",
   "metadata": {},
   "outputs": [],
   "source": [
    "# Importing the libraries.\n",
    "import pandas as pd        # Data processing, CSV file I/O (e.g. pd.read_csv)\n",
    "import numpy as np         # Linear algebra\n",
    "import seaborn as sns      # For data visualization\n",
    "import re\n",
    "import matplotlib.pyplot as plt      # For data visualization purposes\n",
    "from sklearn.linear_model import LogisticRegression\n",
    "from sklearn.preprocessing import StandardScaler\n",
    "from sklearn.model_selection import train_test_split\n",
    "from sklearn.metrics import accuracy_score, classification_report, confusion_matrix, plot_confusion_matrix, f1_score\n",
    "from imblearn.over_sampling import SMOTE\n",
    "from imblearn.under_sampling import TomekLinks\n",
    "import warnings\n",
    "warnings.filterwarnings('ignore')"
   ]
  },
  {
   "cell_type": "markdown",
   "id": "80fa7ece",
   "metadata": {},
   "source": [
    "### 1. Load the dataset and explore the variables."
   ]
  },
  {
   "cell_type": "code",
   "execution_count": 50,
   "id": "cdea6b20",
   "metadata": {},
   "outputs": [
    {
     "data": {
      "text/html": [
       "<div>\n",
       "<style scoped>\n",
       "    .dataframe tbody tr th:only-of-type {\n",
       "        vertical-align: middle;\n",
       "    }\n",
       "\n",
       "    .dataframe tbody tr th {\n",
       "        vertical-align: top;\n",
       "    }\n",
       "\n",
       "    .dataframe thead th {\n",
       "        text-align: right;\n",
       "    }\n",
       "</style>\n",
       "<table border=\"1\" class=\"dataframe\">\n",
       "  <thead>\n",
       "    <tr style=\"text-align: right;\">\n",
       "      <th></th>\n",
       "      <th>customerID</th>\n",
       "      <th>gender</th>\n",
       "      <th>SeniorCitizen</th>\n",
       "      <th>Partner</th>\n",
       "      <th>Dependents</th>\n",
       "      <th>tenure</th>\n",
       "      <th>PhoneService</th>\n",
       "      <th>MultipleLines</th>\n",
       "      <th>InternetService</th>\n",
       "      <th>OnlineSecurity</th>\n",
       "      <th>OnlineBackup</th>\n",
       "      <th>DeviceProtection</th>\n",
       "      <th>TechSupport</th>\n",
       "      <th>StreamingTV</th>\n",
       "      <th>StreamingMovies</th>\n",
       "      <th>Contract</th>\n",
       "      <th>PaperlessBilling</th>\n",
       "      <th>PaymentMethod</th>\n",
       "      <th>MonthlyCharges</th>\n",
       "      <th>TotalCharges</th>\n",
       "      <th>Churn</th>\n",
       "    </tr>\n",
       "  </thead>\n",
       "  <tbody>\n",
       "    <tr>\n",
       "      <th>0</th>\n",
       "      <td>7590-VHVEG</td>\n",
       "      <td>Female</td>\n",
       "      <td>0</td>\n",
       "      <td>Yes</td>\n",
       "      <td>No</td>\n",
       "      <td>1</td>\n",
       "      <td>No</td>\n",
       "      <td>No phone service</td>\n",
       "      <td>DSL</td>\n",
       "      <td>No</td>\n",
       "      <td>Yes</td>\n",
       "      <td>No</td>\n",
       "      <td>No</td>\n",
       "      <td>No</td>\n",
       "      <td>No</td>\n",
       "      <td>Month-to-month</td>\n",
       "      <td>Yes</td>\n",
       "      <td>Electronic check</td>\n",
       "      <td>29.85</td>\n",
       "      <td>29.85</td>\n",
       "      <td>No</td>\n",
       "    </tr>\n",
       "    <tr>\n",
       "      <th>1</th>\n",
       "      <td>5575-GNVDE</td>\n",
       "      <td>Male</td>\n",
       "      <td>0</td>\n",
       "      <td>No</td>\n",
       "      <td>No</td>\n",
       "      <td>34</td>\n",
       "      <td>Yes</td>\n",
       "      <td>No</td>\n",
       "      <td>DSL</td>\n",
       "      <td>Yes</td>\n",
       "      <td>No</td>\n",
       "      <td>Yes</td>\n",
       "      <td>No</td>\n",
       "      <td>No</td>\n",
       "      <td>No</td>\n",
       "      <td>One year</td>\n",
       "      <td>No</td>\n",
       "      <td>Mailed check</td>\n",
       "      <td>56.95</td>\n",
       "      <td>1889.5</td>\n",
       "      <td>No</td>\n",
       "    </tr>\n",
       "    <tr>\n",
       "      <th>2</th>\n",
       "      <td>3668-QPYBK</td>\n",
       "      <td>Male</td>\n",
       "      <td>0</td>\n",
       "      <td>No</td>\n",
       "      <td>No</td>\n",
       "      <td>2</td>\n",
       "      <td>Yes</td>\n",
       "      <td>No</td>\n",
       "      <td>DSL</td>\n",
       "      <td>Yes</td>\n",
       "      <td>Yes</td>\n",
       "      <td>No</td>\n",
       "      <td>No</td>\n",
       "      <td>No</td>\n",
       "      <td>No</td>\n",
       "      <td>Month-to-month</td>\n",
       "      <td>Yes</td>\n",
       "      <td>Mailed check</td>\n",
       "      <td>53.85</td>\n",
       "      <td>108.15</td>\n",
       "      <td>Yes</td>\n",
       "    </tr>\n",
       "    <tr>\n",
       "      <th>3</th>\n",
       "      <td>7795-CFOCW</td>\n",
       "      <td>Male</td>\n",
       "      <td>0</td>\n",
       "      <td>No</td>\n",
       "      <td>No</td>\n",
       "      <td>45</td>\n",
       "      <td>No</td>\n",
       "      <td>No phone service</td>\n",
       "      <td>DSL</td>\n",
       "      <td>Yes</td>\n",
       "      <td>No</td>\n",
       "      <td>Yes</td>\n",
       "      <td>Yes</td>\n",
       "      <td>No</td>\n",
       "      <td>No</td>\n",
       "      <td>One year</td>\n",
       "      <td>No</td>\n",
       "      <td>Bank transfer (automatic)</td>\n",
       "      <td>42.30</td>\n",
       "      <td>1840.75</td>\n",
       "      <td>No</td>\n",
       "    </tr>\n",
       "    <tr>\n",
       "      <th>4</th>\n",
       "      <td>9237-HQITU</td>\n",
       "      <td>Female</td>\n",
       "      <td>0</td>\n",
       "      <td>No</td>\n",
       "      <td>No</td>\n",
       "      <td>2</td>\n",
       "      <td>Yes</td>\n",
       "      <td>No</td>\n",
       "      <td>Fiber optic</td>\n",
       "      <td>No</td>\n",
       "      <td>No</td>\n",
       "      <td>No</td>\n",
       "      <td>No</td>\n",
       "      <td>No</td>\n",
       "      <td>No</td>\n",
       "      <td>Month-to-month</td>\n",
       "      <td>Yes</td>\n",
       "      <td>Electronic check</td>\n",
       "      <td>70.70</td>\n",
       "      <td>151.65</td>\n",
       "      <td>Yes</td>\n",
       "    </tr>\n",
       "  </tbody>\n",
       "</table>\n",
       "</div>"
      ],
      "text/plain": [
       "   customerID  gender  SeniorCitizen Partner Dependents  tenure PhoneService  \\\n",
       "0  7590-VHVEG  Female              0     Yes         No       1           No   \n",
       "1  5575-GNVDE    Male              0      No         No      34          Yes   \n",
       "2  3668-QPYBK    Male              0      No         No       2          Yes   \n",
       "3  7795-CFOCW    Male              0      No         No      45           No   \n",
       "4  9237-HQITU  Female              0      No         No       2          Yes   \n",
       "\n",
       "      MultipleLines InternetService OnlineSecurity OnlineBackup  \\\n",
       "0  No phone service             DSL             No          Yes   \n",
       "1                No             DSL            Yes           No   \n",
       "2                No             DSL            Yes          Yes   \n",
       "3  No phone service             DSL            Yes           No   \n",
       "4                No     Fiber optic             No           No   \n",
       "\n",
       "  DeviceProtection TechSupport StreamingTV StreamingMovies        Contract  \\\n",
       "0               No          No          No              No  Month-to-month   \n",
       "1              Yes          No          No              No        One year   \n",
       "2               No          No          No              No  Month-to-month   \n",
       "3              Yes         Yes          No              No        One year   \n",
       "4               No          No          No              No  Month-to-month   \n",
       "\n",
       "  PaperlessBilling              PaymentMethod  MonthlyCharges TotalCharges  \\\n",
       "0              Yes           Electronic check           29.85        29.85   \n",
       "1               No               Mailed check           56.95       1889.5   \n",
       "2              Yes               Mailed check           53.85       108.15   \n",
       "3               No  Bank transfer (automatic)           42.30      1840.75   \n",
       "4              Yes           Electronic check           70.70       151.65   \n",
       "\n",
       "  Churn  \n",
       "0    No  \n",
       "1    No  \n",
       "2   Yes  \n",
       "3    No  \n",
       "4   Yes  "
      ]
     },
     "execution_count": 50,
     "metadata": {},
     "output_type": "execute_result"
    }
   ],
   "source": [
    "# Loading the data from csv file.\n",
    "data = pd.read_csv('/Users/pauli/Desktop/Ironhack/Week9/Sabado_24.09.2022/lab-imbalanced-data/files_for_lab/customer_churn.csv')\n",
    "\n",
    "# Setting the display options.\n",
    "pd.set_option('display.max_columns', None)\n",
    "\n",
    "# Preview the dataset.\n",
    "data.head()"
   ]
  },
  {
   "cell_type": "code",
   "execution_count": 51,
   "id": "c678c62e",
   "metadata": {},
   "outputs": [
    {
     "data": {
      "text/plain": [
       "(7043, 21)"
      ]
     },
     "execution_count": 51,
     "metadata": {},
     "output_type": "execute_result"
    }
   ],
   "source": [
    "# Viewing dimensions of dataset.\n",
    "data.shape"
   ]
  },
  {
   "cell_type": "code",
   "execution_count": 52,
   "id": "6961a27d",
   "metadata": {},
   "outputs": [],
   "source": [
    "# Drop redundant columns from the dataset which does not have any predictive power. \n",
    "# In this case, customer_id is the redundant column. So, I will drop it first.\n",
    "data.drop('customerID', axis=1, inplace=True)"
   ]
  },
  {
   "cell_type": "code",
   "execution_count": 53,
   "id": "3c270573",
   "metadata": {},
   "outputs": [
    {
     "data": {
      "text/plain": [
       "Index(['gender', 'senior_citizen', 'partner', 'dependents', 'tenure',\n",
       "       'phone_service', 'multiple_lines', 'internet_service',\n",
       "       'online_security', 'online_backup', 'device_protection', 'tech_support',\n",
       "       'streaming_tv', 'streaming_movies', 'contract', 'paperless_billing',\n",
       "       'payment_method', 'monthly_charges', 'total_charges', 'churn'],\n",
       "      dtype='object')"
      ]
     },
     "execution_count": 53,
     "metadata": {},
     "output_type": "execute_result"
    }
   ],
   "source": [
    "# Renaming the columns so they follow the PE8 (snake case).\n",
    "col = data.columns.values\n",
    "new_col = []\n",
    "for x in col:\n",
    "    x = re.sub(r\"(\\w)([A-Z])\", r\"\\1_\\2\", x).lower()\n",
    "    new_col.append(x)\n",
    "new_col\n",
    "data.columns = new_col\n",
    "data.columns"
   ]
  },
  {
   "cell_type": "code",
   "execution_count": 54,
   "id": "4b11eb9e",
   "metadata": {},
   "outputs": [
    {
     "name": "stdout",
     "output_type": "stream",
     "text": [
      "<class 'pandas.core.frame.DataFrame'>\n",
      "RangeIndex: 7043 entries, 0 to 7042\n",
      "Data columns (total 20 columns):\n",
      " #   Column             Non-Null Count  Dtype  \n",
      "---  ------             --------------  -----  \n",
      " 0   gender             7043 non-null   object \n",
      " 1   senior_citizen     7043 non-null   int64  \n",
      " 2   partner            7043 non-null   object \n",
      " 3   dependents         7043 non-null   object \n",
      " 4   tenure             7043 non-null   int64  \n",
      " 5   phone_service      7043 non-null   object \n",
      " 6   multiple_lines     7043 non-null   object \n",
      " 7   internet_service   7043 non-null   object \n",
      " 8   online_security    7043 non-null   object \n",
      " 9   online_backup      7043 non-null   object \n",
      " 10  device_protection  7043 non-null   object \n",
      " 11  tech_support       7043 non-null   object \n",
      " 12  streaming_tv       7043 non-null   object \n",
      " 13  streaming_movies   7043 non-null   object \n",
      " 14  contract           7043 non-null   object \n",
      " 15  paperless_billing  7043 non-null   object \n",
      " 16  payment_method     7043 non-null   object \n",
      " 17  monthly_charges    7043 non-null   float64\n",
      " 18  total_charges      7043 non-null   object \n",
      " 19  churn              7043 non-null   object \n",
      "dtypes: float64(1), int64(2), object(17)\n",
      "memory usage: 1.1+ MB\n"
     ]
    }
   ],
   "source": [
    "# Viewing the summary of dataset.\n",
    "data.info()"
   ]
  },
  {
   "cell_type": "markdown",
   "id": "d4d3645c",
   "metadata": {},
   "source": [
    "* We can see that the *customerID* column has been removed from the dataset.\n",
    "\n",
    "* We can see that there are 3 numerical variables: *senior_citizen*, *tenure*, *monthly_charges*, but there is one more unmerical variable: *total_charges*."
   ]
  },
  {
   "cell_type": "code",
   "execution_count": 55,
   "id": "661cc6b8",
   "metadata": {},
   "outputs": [
    {
     "name": "stdout",
     "output_type": "stream",
     "text": [
      "Male      3555\n",
      "Female    3488\n",
      "Name: gender, dtype: int64\n",
      "0    5901\n",
      "1    1142\n",
      "Name: senior_citizen, dtype: int64\n",
      "No     3641\n",
      "Yes    3402\n",
      "Name: partner, dtype: int64\n",
      "No     4933\n",
      "Yes    2110\n",
      "Name: dependents, dtype: int64\n",
      "1     613\n",
      "72    362\n",
      "2     238\n",
      "3     200\n",
      "4     176\n",
      "     ... \n",
      "28     57\n",
      "39     56\n",
      "44     51\n",
      "36     50\n",
      "0      11\n",
      "Name: tenure, Length: 73, dtype: int64\n",
      "Yes    6361\n",
      "No      682\n",
      "Name: phone_service, dtype: int64\n",
      "No                  3390\n",
      "Yes                 2971\n",
      "No phone service     682\n",
      "Name: multiple_lines, dtype: int64\n",
      "Fiber optic    3096\n",
      "DSL            2421\n",
      "No             1526\n",
      "Name: internet_service, dtype: int64\n",
      "No                     3498\n",
      "Yes                    2019\n",
      "No internet service    1526\n",
      "Name: online_security, dtype: int64\n",
      "No                     3088\n",
      "Yes                    2429\n",
      "No internet service    1526\n",
      "Name: online_backup, dtype: int64\n",
      "No                     3095\n",
      "Yes                    2422\n",
      "No internet service    1526\n",
      "Name: device_protection, dtype: int64\n",
      "No                     3473\n",
      "Yes                    2044\n",
      "No internet service    1526\n",
      "Name: tech_support, dtype: int64\n",
      "No                     2810\n",
      "Yes                    2707\n",
      "No internet service    1526\n",
      "Name: streaming_tv, dtype: int64\n",
      "No                     2785\n",
      "Yes                    2732\n",
      "No internet service    1526\n",
      "Name: streaming_movies, dtype: int64\n",
      "Month-to-month    3875\n",
      "Two year          1695\n",
      "One year          1473\n",
      "Name: contract, dtype: int64\n",
      "Yes    4171\n",
      "No     2872\n",
      "Name: paperless_billing, dtype: int64\n",
      "Electronic check             2365\n",
      "Mailed check                 1612\n",
      "Bank transfer (automatic)    1544\n",
      "Credit card (automatic)      1522\n",
      "Name: payment_method, dtype: int64\n",
      "20.05     61\n",
      "19.85     45\n",
      "19.95     44\n",
      "19.90     44\n",
      "20.00     43\n",
      "          ..\n",
      "23.65      1\n",
      "114.70     1\n",
      "43.65      1\n",
      "87.80      1\n",
      "78.70      1\n",
      "Name: monthly_charges, Length: 1585, dtype: int64\n",
      "          11\n",
      "20.2      11\n",
      "19.75      9\n",
      "20.05      8\n",
      "19.9       8\n",
      "          ..\n",
      "6849.4     1\n",
      "692.35     1\n",
      "130.15     1\n",
      "3211.9     1\n",
      "6844.5     1\n",
      "Name: total_charges, Length: 6531, dtype: int64\n",
      "No     5174\n",
      "Yes    1869\n",
      "Name: churn, dtype: int64\n"
     ]
    }
   ],
   "source": [
    "# Frequency distribution of values in variables.\n",
    "for var in data.columns:\n",
    "    print(data[var].value_counts())"
   ]
  },
  {
   "cell_type": "markdown",
   "id": "0b587d88",
   "metadata": {},
   "source": [
    "* The distribution of values shows that data type of *total_charges* is of type **integer**. But the summary of the dataframe shows that it is type **object**. So, I will explicitly convert its data type to integer."
   ]
  },
  {
   "cell_type": "code",
   "execution_count": 56,
   "id": "8a677473",
   "metadata": {},
   "outputs": [],
   "source": [
    "# Convert data type of total_charges to integer.\n",
    "data['total_charges'] = pd.to_numeric(data['total_charges'], errors='coerce')"
   ]
  },
  {
   "cell_type": "markdown",
   "id": "30983918",
   "metadata": {},
   "source": [
    "#### Missing values in variables."
   ]
  },
  {
   "cell_type": "code",
   "execution_count": 57,
   "id": "90e48f11",
   "metadata": {},
   "outputs": [
    {
     "data": {
      "text/plain": [
       "gender               0.00\n",
       "senior_citizen       0.00\n",
       "partner              0.00\n",
       "dependents           0.00\n",
       "tenure               0.00\n",
       "phone_service        0.00\n",
       "multiple_lines       0.00\n",
       "internet_service     0.00\n",
       "online_security      0.00\n",
       "online_backup        0.00\n",
       "device_protection    0.00\n",
       "tech_support         0.00\n",
       "streaming_tv         0.00\n",
       "streaming_movies     0.00\n",
       "contract             0.00\n",
       "paperless_billing    0.00\n",
       "payment_method       0.00\n",
       "monthly_charges      0.00\n",
       "total_charges        0.16\n",
       "churn                0.00\n",
       "dtype: float64"
      ]
     },
     "execution_count": 57,
     "metadata": {},
     "output_type": "execute_result"
    }
   ],
   "source": [
    "# Checking the % of NaN values by column.\n",
    "round((data.isna().sum()/len(data)*100),2)"
   ]
  },
  {
   "cell_type": "markdown",
   "id": "d7c1e9e1",
   "metadata": {},
   "source": [
    "* We can see that the total_charges column contains **0.16% NaN** values."
   ]
  },
  {
   "cell_type": "markdown",
   "id": "749a8eee",
   "metadata": {},
   "source": [
    "### 2. We will try to predict variable *Churn* using a logistic regression on variables *tenure*, *SeniorCitizen*, *MonthlyCharges*."
   ]
  },
  {
   "cell_type": "code",
   "execution_count": 58,
   "id": "eeeb7e58",
   "metadata": {},
   "outputs": [],
   "source": [
    "# Choose the columns we will have as our features.\n",
    "features_list = ['tenure', 'senior_citizen', 'monthly_charges']"
   ]
  },
  {
   "cell_type": "code",
   "execution_count": 59,
   "id": "c53dbdd6",
   "metadata": {},
   "outputs": [
    {
     "name": "stdout",
     "output_type": "stream",
     "text": [
      "tenure 73\n",
      "senior_citizen 2\n",
      "monthly_charges 1585\n"
     ]
    }
   ],
   "source": [
    "for x in features_list:\n",
    "    print(x, len(data[x].unique()))"
   ]
  },
  {
   "cell_type": "code",
   "execution_count": 60,
   "id": "127d1d19",
   "metadata": {},
   "outputs": [
    {
     "data": {
      "text/plain": [
       "0    5901\n",
       "1    1142\n",
       "Name: senior_citizen, dtype: int64"
      ]
     },
     "execution_count": 60,
     "metadata": {},
     "output_type": "execute_result"
    }
   ],
   "source": [
    "# Viewing frequency distribution of values in the senior_citizen variable.\n",
    "data.senior_citizen.value_counts()"
   ]
  },
  {
   "cell_type": "markdown",
   "id": "1b3a8ec0",
   "metadata": {},
   "source": [
    "* We can see that the *senior_citizen* is a discrete variable that contains 2 class labels - 0 and 1."
   ]
  },
  {
   "cell_type": "markdown",
   "id": "3bf423cc",
   "metadata": {},
   "source": [
    "### 3. Extract the target variable."
   ]
  },
  {
   "cell_type": "code",
   "execution_count": 61,
   "id": "795120bd",
   "metadata": {},
   "outputs": [
    {
     "data": {
      "text/plain": [
       "No     5174\n",
       "Yes    1869\n",
       "Name: churn, dtype: int64"
      ]
     },
     "execution_count": 61,
     "metadata": {},
     "output_type": "execute_result"
    }
   ],
   "source": [
    "y= data.loc[:, \"churn\"]\n",
    "\n",
    "# Viewing frequency distribution of values in the target variable.\n",
    "data['churn'].value_counts()"
   ]
  },
  {
   "cell_type": "code",
   "execution_count": 62,
   "id": "0c39a49d",
   "metadata": {},
   "outputs": [
    {
     "data": {
      "text/plain": [
       "No     73.46\n",
       "Yes    26.54\n",
       "Name: churn, dtype: float64"
      ]
     },
     "execution_count": 62,
     "metadata": {},
     "output_type": "execute_result"
    }
   ],
   "source": [
    "# Viewing the percentage of frequency distribution of values in 'class' variable.\n",
    "round(data['churn'].value_counts()/np.float(len(data))*100, 2)"
   ]
  },
  {
   "cell_type": "markdown",
   "id": "b83822d1",
   "metadata": {},
   "source": [
    "* The target variable is imbalanced. An imbalanced dataset is a dataset where the number of data points per class differs drastically, resulting in a heavily biased machine learning model that won’t be able to learn the minority class (label Yes)."
   ]
  },
  {
   "cell_type": "markdown",
   "id": "6b771b8e",
   "metadata": {},
   "source": [
    "### 4. Extract the independent variables and scale them."
   ]
  },
  {
   "cell_type": "code",
   "execution_count": 81,
   "id": "2283ad40",
   "metadata": {},
   "outputs": [
    {
     "data": {
      "text/html": [
       "<div>\n",
       "<style scoped>\n",
       "    .dataframe tbody tr th:only-of-type {\n",
       "        vertical-align: middle;\n",
       "    }\n",
       "\n",
       "    .dataframe tbody tr th {\n",
       "        vertical-align: top;\n",
       "    }\n",
       "\n",
       "    .dataframe thead th {\n",
       "        text-align: right;\n",
       "    }\n",
       "</style>\n",
       "<table border=\"1\" class=\"dataframe\">\n",
       "  <thead>\n",
       "    <tr style=\"text-align: right;\">\n",
       "      <th></th>\n",
       "      <th>tenure</th>\n",
       "      <th>senior_citizen</th>\n",
       "      <th>monthly_charges</th>\n",
       "    </tr>\n",
       "  </thead>\n",
       "  <tbody>\n",
       "    <tr>\n",
       "      <th>0</th>\n",
       "      <td>1</td>\n",
       "      <td>0</td>\n",
       "      <td>29.85</td>\n",
       "    </tr>\n",
       "    <tr>\n",
       "      <th>1</th>\n",
       "      <td>34</td>\n",
       "      <td>0</td>\n",
       "      <td>56.95</td>\n",
       "    </tr>\n",
       "    <tr>\n",
       "      <th>2</th>\n",
       "      <td>2</td>\n",
       "      <td>0</td>\n",
       "      <td>53.85</td>\n",
       "    </tr>\n",
       "    <tr>\n",
       "      <th>3</th>\n",
       "      <td>45</td>\n",
       "      <td>0</td>\n",
       "      <td>42.30</td>\n",
       "    </tr>\n",
       "    <tr>\n",
       "      <th>4</th>\n",
       "      <td>2</td>\n",
       "      <td>0</td>\n",
       "      <td>70.70</td>\n",
       "    </tr>\n",
       "  </tbody>\n",
       "</table>\n",
       "</div>"
      ],
      "text/plain": [
       "   tenure  senior_citizen  monthly_charges\n",
       "0       1               0            29.85\n",
       "1      34               0            56.95\n",
       "2       2               0            53.85\n",
       "3      45               0            42.30\n",
       "4       2               0            70.70"
      ]
     },
     "execution_count": 81,
     "metadata": {},
     "output_type": "execute_result"
    }
   ],
   "source": [
    "# Extracting the independent variables.\n",
    "x=data.loc[:, features_list]\n",
    "x.head()"
   ]
  },
  {
   "cell_type": "code",
   "execution_count": 82,
   "id": "8c2af982",
   "metadata": {},
   "outputs": [
    {
     "data": {
      "text/plain": [
       "tenure               int64\n",
       "senior_citizen       int64\n",
       "monthly_charges    float64\n",
       "dtype: object"
      ]
     },
     "execution_count": 82,
     "metadata": {},
     "output_type": "execute_result"
    }
   ],
   "source": [
    "# Checking the type of the independent variables.\n",
    "x.dtypes"
   ]
  },
  {
   "cell_type": "markdown",
   "id": "f1ac435f",
   "metadata": {},
   "source": [
    "#### Outliers in independent variables."
   ]
  },
  {
   "cell_type": "code",
   "execution_count": 83,
   "id": "e710132c",
   "metadata": {},
   "outputs": [
    {
     "name": "stdout",
     "output_type": "stream",
     "text": [
      "                  count   mean    std    min   25%    50%    75%     max\n",
      "tenure           7043.0  32.37  24.56   0.00   9.0  29.00  55.00   72.00\n",
      "senior_citizen   7043.0   0.16   0.37   0.00   0.0   0.00   0.00    1.00\n",
      "monthly_charges  7043.0  64.76  30.09  18.25  35.5  70.35  89.85  118.75\n"
     ]
    }
   ],
   "source": [
    "# Viewing summary statistics in independent variables.\n",
    "print(round(x.describe(),2).T)"
   ]
  },
  {
   "cell_type": "markdown",
   "id": "3f2ea814",
   "metadata": {},
   "source": [
    "#### Encode numerical discrete data."
   ]
  },
  {
   "cell_type": "code",
   "execution_count": 86,
   "id": "4c6878aa",
   "metadata": {},
   "outputs": [
    {
     "data": {
      "text/html": [
       "<div>\n",
       "<style scoped>\n",
       "    .dataframe tbody tr th:only-of-type {\n",
       "        vertical-align: middle;\n",
       "    }\n",
       "\n",
       "    .dataframe tbody tr th {\n",
       "        vertical-align: top;\n",
       "    }\n",
       "\n",
       "    .dataframe thead th {\n",
       "        text-align: right;\n",
       "    }\n",
       "</style>\n",
       "<table border=\"1\" class=\"dataframe\">\n",
       "  <thead>\n",
       "    <tr style=\"text-align: right;\">\n",
       "      <th></th>\n",
       "      <th>1</th>\n",
       "    </tr>\n",
       "  </thead>\n",
       "  <tbody>\n",
       "    <tr>\n",
       "      <th>0</th>\n",
       "      <td>0</td>\n",
       "    </tr>\n",
       "    <tr>\n",
       "      <th>1</th>\n",
       "      <td>0</td>\n",
       "    </tr>\n",
       "    <tr>\n",
       "      <th>2</th>\n",
       "      <td>0</td>\n",
       "    </tr>\n",
       "    <tr>\n",
       "      <th>3</th>\n",
       "      <td>0</td>\n",
       "    </tr>\n",
       "    <tr>\n",
       "      <th>4</th>\n",
       "      <td>0</td>\n",
       "    </tr>\n",
       "  </tbody>\n",
       "</table>\n",
       "</div>"
      ],
      "text/plain": [
       "   1\n",
       "0  0\n",
       "1  0\n",
       "2  0\n",
       "3  0\n",
       "4  0"
      ]
     },
     "execution_count": 86,
     "metadata": {},
     "output_type": "execute_result"
    }
   ],
   "source": [
    "discrete_numeric_variable = pd.get_dummies(x['senior_citizen'], drop_first=True)\n",
    "discrete_numeric_variable.head()"
   ]
  },
  {
   "cell_type": "markdown",
   "id": "c450b1c3",
   "metadata": {},
   "source": [
    "* Normalizing dummy variables makes no sense."
   ]
  },
  {
   "cell_type": "markdown",
   "id": "ad12dcb6",
   "metadata": {},
   "source": [
    "#### Feature scaling.\n",
    "The standard scaler is used **before** training the data. The idea behind StandardScaler is that it will transform the data such that its distribution will have a mean value 0 and standard deviation of 1."
   ]
  },
  {
   "cell_type": "code",
   "execution_count": 92,
   "id": "4c0c1893",
   "metadata": {},
   "outputs": [
    {
     "data": {
      "text/html": [
       "<div>\n",
       "<style scoped>\n",
       "    .dataframe tbody tr th:only-of-type {\n",
       "        vertical-align: middle;\n",
       "    }\n",
       "\n",
       "    .dataframe tbody tr th {\n",
       "        vertical-align: top;\n",
       "    }\n",
       "\n",
       "    .dataframe thead th {\n",
       "        text-align: right;\n",
       "    }\n",
       "</style>\n",
       "<table border=\"1\" class=\"dataframe\">\n",
       "  <thead>\n",
       "    <tr style=\"text-align: right;\">\n",
       "      <th></th>\n",
       "      <th>tenure</th>\n",
       "      <th>monthly_charges</th>\n",
       "    </tr>\n",
       "  </thead>\n",
       "  <tbody>\n",
       "    <tr>\n",
       "      <th>0</th>\n",
       "      <td>1</td>\n",
       "      <td>29.85</td>\n",
       "    </tr>\n",
       "    <tr>\n",
       "      <th>1</th>\n",
       "      <td>34</td>\n",
       "      <td>56.95</td>\n",
       "    </tr>\n",
       "    <tr>\n",
       "      <th>2</th>\n",
       "      <td>2</td>\n",
       "      <td>53.85</td>\n",
       "    </tr>\n",
       "    <tr>\n",
       "      <th>3</th>\n",
       "      <td>45</td>\n",
       "      <td>42.30</td>\n",
       "    </tr>\n",
       "    <tr>\n",
       "      <th>4</th>\n",
       "      <td>2</td>\n",
       "      <td>70.70</td>\n",
       "    </tr>\n",
       "  </tbody>\n",
       "</table>\n",
       "</div>"
      ],
      "text/plain": [
       "   tenure  monthly_charges\n",
       "0       1            29.85\n",
       "1      34            56.95\n",
       "2       2            53.85\n",
       "3      45            42.30\n",
       "4       2            70.70"
      ]
     },
     "execution_count": 92,
     "metadata": {},
     "output_type": "execute_result"
    }
   ],
   "source": [
    "# We will only use the continuous_numeric_variables.\n",
    "x = x.drop('senior_citizen', axis=1)\n",
    "x.head()"
   ]
  },
  {
   "cell_type": "code",
   "execution_count": 93,
   "id": "20ebc2c8",
   "metadata": {},
   "outputs": [],
   "source": [
    "# To standardize numerical features we apply the Standard Scaler\n",
    "scaler = StandardScaler()\n",
    "x_norm = scaler.fit_transform(x)"
   ]
  },
  {
   "cell_type": "code",
   "execution_count": 94,
   "id": "619c67de",
   "metadata": {},
   "outputs": [
    {
     "data": {
      "text/html": [
       "<div>\n",
       "<style scoped>\n",
       "    .dataframe tbody tr th:only-of-type {\n",
       "        vertical-align: middle;\n",
       "    }\n",
       "\n",
       "    .dataframe tbody tr th {\n",
       "        vertical-align: top;\n",
       "    }\n",
       "\n",
       "    .dataframe thead th {\n",
       "        text-align: right;\n",
       "    }\n",
       "</style>\n",
       "<table border=\"1\" class=\"dataframe\">\n",
       "  <thead>\n",
       "    <tr style=\"text-align: right;\">\n",
       "      <th></th>\n",
       "      <th>tenure</th>\n",
       "      <th>monthly_charges</th>\n",
       "    </tr>\n",
       "  </thead>\n",
       "  <tbody>\n",
       "    <tr>\n",
       "      <th>0</th>\n",
       "      <td>-1.277445</td>\n",
       "      <td>-1.160323</td>\n",
       "    </tr>\n",
       "    <tr>\n",
       "      <th>1</th>\n",
       "      <td>0.066327</td>\n",
       "      <td>-0.259629</td>\n",
       "    </tr>\n",
       "    <tr>\n",
       "      <th>2</th>\n",
       "      <td>-1.236724</td>\n",
       "      <td>-0.362660</td>\n",
       "    </tr>\n",
       "    <tr>\n",
       "      <th>3</th>\n",
       "      <td>0.514251</td>\n",
       "      <td>-0.746535</td>\n",
       "    </tr>\n",
       "    <tr>\n",
       "      <th>4</th>\n",
       "      <td>-1.236724</td>\n",
       "      <td>0.197365</td>\n",
       "    </tr>\n",
       "  </tbody>\n",
       "</table>\n",
       "</div>"
      ],
      "text/plain": [
       "     tenure  monthly_charges\n",
       "0 -1.277445        -1.160323\n",
       "1  0.066327        -0.259629\n",
       "2 -1.236724        -0.362660\n",
       "3  0.514251        -0.746535\n",
       "4 -1.236724         0.197365"
      ]
     },
     "execution_count": 94,
     "metadata": {},
     "output_type": "execute_result"
    }
   ],
   "source": [
    "continuous_numeric_variables = pd.DataFrame(x_norm, columns=x.columns)\n",
    "continuous_numeric_variables.head()"
   ]
  },
  {
   "cell_type": "code",
   "execution_count": 97,
   "id": "954a8a68",
   "metadata": {},
   "outputs": [
    {
     "data": {
      "text/html": [
       "<div>\n",
       "<style scoped>\n",
       "    .dataframe tbody tr th:only-of-type {\n",
       "        vertical-align: middle;\n",
       "    }\n",
       "\n",
       "    .dataframe tbody tr th {\n",
       "        vertical-align: top;\n",
       "    }\n",
       "\n",
       "    .dataframe thead th {\n",
       "        text-align: right;\n",
       "    }\n",
       "</style>\n",
       "<table border=\"1\" class=\"dataframe\">\n",
       "  <thead>\n",
       "    <tr style=\"text-align: right;\">\n",
       "      <th></th>\n",
       "      <th>1</th>\n",
       "      <th>tenure</th>\n",
       "      <th>monthly_charges</th>\n",
       "    </tr>\n",
       "  </thead>\n",
       "  <tbody>\n",
       "    <tr>\n",
       "      <th>0</th>\n",
       "      <td>0</td>\n",
       "      <td>-1.277445</td>\n",
       "      <td>-1.160323</td>\n",
       "    </tr>\n",
       "    <tr>\n",
       "      <th>1</th>\n",
       "      <td>0</td>\n",
       "      <td>0.066327</td>\n",
       "      <td>-0.259629</td>\n",
       "    </tr>\n",
       "    <tr>\n",
       "      <th>2</th>\n",
       "      <td>0</td>\n",
       "      <td>-1.236724</td>\n",
       "      <td>-0.362660</td>\n",
       "    </tr>\n",
       "    <tr>\n",
       "      <th>3</th>\n",
       "      <td>0</td>\n",
       "      <td>0.514251</td>\n",
       "      <td>-0.746535</td>\n",
       "    </tr>\n",
       "    <tr>\n",
       "      <th>4</th>\n",
       "      <td>0</td>\n",
       "      <td>-1.236724</td>\n",
       "      <td>0.197365</td>\n",
       "    </tr>\n",
       "  </tbody>\n",
       "</table>\n",
       "</div>"
      ],
      "text/plain": [
       "   1    tenure  monthly_charges\n",
       "0  0 -1.277445        -1.160323\n",
       "1  0  0.066327        -0.259629\n",
       "2  0 -1.236724        -0.362660\n",
       "3  0  0.514251        -0.746535\n",
       "4  0 -1.236724         0.197365"
      ]
     },
     "execution_count": 97,
     "metadata": {},
     "output_type": "execute_result"
    }
   ],
   "source": [
    "X = pd.concat([discrete_numeric_variable, continuous_numeric_variables], axis=1)\n",
    "X.head()"
   ]
  },
  {
   "cell_type": "markdown",
   "id": "211f03ab",
   "metadata": {},
   "source": [
    "* We now have **X** dataset ready to be fed into the Logistic Regression classifier."
   ]
  },
  {
   "cell_type": "markdown",
   "id": "51236498",
   "metadata": {},
   "source": [
    "### 5. Build the logistic regression model."
   ]
  },
  {
   "cell_type": "markdown",
   "id": "7f7296c3",
   "metadata": {},
   "source": [
    "#### Train/test split review:\n",
    "Train test split is a model validation procedure that allows you to simulate how a model would perform on new/unseen data \"Train\" is the majority of the you are \"training\" the model on (about 75%) \"Test\" is the rest of the data (about 25%) that you will use **after** making the model, to test your training model on to see how good the model is in predicting results."
   ]
  },
  {
   "cell_type": "code",
   "execution_count": 98,
   "id": "ad6eb09d",
   "metadata": {},
   "outputs": [],
   "source": [
    "# Here we start scaling, so need to divide dataset Train set & Test set.\n",
    "X_train, X_test, y_train, y_test = train_test_split(X, y, test_size = 0.3, random_state=100)"
   ]
  },
  {
   "cell_type": "markdown",
   "id": "8f2ce61b",
   "metadata": {},
   "source": [
    "* I use train_test_split test_size= 0.3, and this is completely arbitrary. \n",
    "* You choose whaveter proportion suits you."
   ]
  },
  {
   "cell_type": "code",
   "execution_count": 99,
   "id": "705832dd",
   "metadata": {},
   "outputs": [
    {
     "data": {
      "text/plain": [
       "((4930, 3), (2113, 3))"
      ]
     },
     "execution_count": 99,
     "metadata": {},
     "output_type": "execute_result"
    }
   ],
   "source": [
    "# Checking the shape of X_train and X_test\n",
    "X_train.shape, X_test.shape"
   ]
  },
  {
   "cell_type": "code",
   "execution_count": 100,
   "id": "f73dde43",
   "metadata": {},
   "outputs": [
    {
     "data": {
      "text/html": [
       "<style>#sk-container-id-3 {color: black;background-color: white;}#sk-container-id-3 pre{padding: 0;}#sk-container-id-3 div.sk-toggleable {background-color: white;}#sk-container-id-3 label.sk-toggleable__label {cursor: pointer;display: block;width: 100%;margin-bottom: 0;padding: 0.3em;box-sizing: border-box;text-align: center;}#sk-container-id-3 label.sk-toggleable__label-arrow:before {content: \"▸\";float: left;margin-right: 0.25em;color: #696969;}#sk-container-id-3 label.sk-toggleable__label-arrow:hover:before {color: black;}#sk-container-id-3 div.sk-estimator:hover label.sk-toggleable__label-arrow:before {color: black;}#sk-container-id-3 div.sk-toggleable__content {max-height: 0;max-width: 0;overflow: hidden;text-align: left;background-color: #f0f8ff;}#sk-container-id-3 div.sk-toggleable__content pre {margin: 0.2em;color: black;border-radius: 0.25em;background-color: #f0f8ff;}#sk-container-id-3 input.sk-toggleable__control:checked~div.sk-toggleable__content {max-height: 200px;max-width: 100%;overflow: auto;}#sk-container-id-3 input.sk-toggleable__control:checked~label.sk-toggleable__label-arrow:before {content: \"▾\";}#sk-container-id-3 div.sk-estimator input.sk-toggleable__control:checked~label.sk-toggleable__label {background-color: #d4ebff;}#sk-container-id-3 div.sk-label input.sk-toggleable__control:checked~label.sk-toggleable__label {background-color: #d4ebff;}#sk-container-id-3 input.sk-hidden--visually {border: 0;clip: rect(1px 1px 1px 1px);clip: rect(1px, 1px, 1px, 1px);height: 1px;margin: -1px;overflow: hidden;padding: 0;position: absolute;width: 1px;}#sk-container-id-3 div.sk-estimator {font-family: monospace;background-color: #f0f8ff;border: 1px dotted black;border-radius: 0.25em;box-sizing: border-box;margin-bottom: 0.5em;}#sk-container-id-3 div.sk-estimator:hover {background-color: #d4ebff;}#sk-container-id-3 div.sk-parallel-item::after {content: \"\";width: 100%;border-bottom: 1px solid gray;flex-grow: 1;}#sk-container-id-3 div.sk-label:hover label.sk-toggleable__label {background-color: #d4ebff;}#sk-container-id-3 div.sk-serial::before {content: \"\";position: absolute;border-left: 1px solid gray;box-sizing: border-box;top: 0;bottom: 0;left: 50%;z-index: 0;}#sk-container-id-3 div.sk-serial {display: flex;flex-direction: column;align-items: center;background-color: white;padding-right: 0.2em;padding-left: 0.2em;position: relative;}#sk-container-id-3 div.sk-item {position: relative;z-index: 1;}#sk-container-id-3 div.sk-parallel {display: flex;align-items: stretch;justify-content: center;background-color: white;position: relative;}#sk-container-id-3 div.sk-item::before, #sk-container-id-3 div.sk-parallel-item::before {content: \"\";position: absolute;border-left: 1px solid gray;box-sizing: border-box;top: 0;bottom: 0;left: 50%;z-index: -1;}#sk-container-id-3 div.sk-parallel-item {display: flex;flex-direction: column;z-index: 1;position: relative;background-color: white;}#sk-container-id-3 div.sk-parallel-item:first-child::after {align-self: flex-end;width: 50%;}#sk-container-id-3 div.sk-parallel-item:last-child::after {align-self: flex-start;width: 50%;}#sk-container-id-3 div.sk-parallel-item:only-child::after {width: 0;}#sk-container-id-3 div.sk-dashed-wrapped {border: 1px dashed gray;margin: 0 0.4em 0.5em 0.4em;box-sizing: border-box;padding-bottom: 0.4em;background-color: white;}#sk-container-id-3 div.sk-label label {font-family: monospace;font-weight: bold;display: inline-block;line-height: 1.2em;}#sk-container-id-3 div.sk-label-container {text-align: center;}#sk-container-id-3 div.sk-container {/* jupyter's `normalize.less` sets `[hidden] { display: none; }` but bootstrap.min.css set `[hidden] { display: none !important; }` so we also need the `!important` here to be able to override the default hidden behavior on the sphinx rendered scikit-learn.org. See: https://github.com/scikit-learn/scikit-learn/issues/21755 */display: inline-block !important;position: relative;}#sk-container-id-3 div.sk-text-repr-fallback {display: none;}</style><div id=\"sk-container-id-3\" class=\"sk-top-container\"><div class=\"sk-text-repr-fallback\"><pre>LogisticRegression(max_iter=300, multi_class=&#x27;ovr&#x27;, random_state=0)</pre><b>In a Jupyter environment, please rerun this cell to show the HTML representation or trust the notebook. <br />On GitHub, the HTML representation is unable to render, please try loading this page with nbviewer.org.</b></div><div class=\"sk-container\" hidden><div class=\"sk-item\"><div class=\"sk-estimator sk-toggleable\"><input class=\"sk-toggleable__control sk-hidden--visually\" id=\"sk-estimator-id-3\" type=\"checkbox\" checked><label for=\"sk-estimator-id-3\" class=\"sk-toggleable__label sk-toggleable__label-arrow\">LogisticRegression</label><div class=\"sk-toggleable__content\"><pre>LogisticRegression(max_iter=300, multi_class=&#x27;ovr&#x27;, random_state=0)</pre></div></div></div></div></div>"
      ],
      "text/plain": [
       "LogisticRegression(max_iter=300, multi_class='ovr', random_state=0)"
      ]
     },
     "execution_count": 100,
     "metadata": {},
     "output_type": "execute_result"
    }
   ],
   "source": [
    "# Instantiating the model.\n",
    "model = LogisticRegression(max_iter=300, multi_class='ovr', random_state=0)\n",
    "model.fit(X_train, y_train)\n",
    "\n",
    "# This steps is the actual training of the data using binomial classification model."
   ]
  },
  {
   "cell_type": "markdown",
   "id": "fd2e57a0",
   "metadata": {},
   "source": [
    "### 6. Evaluate the model.\n"
   ]
  },
  {
   "cell_type": "markdown",
   "id": "f62e68d7",
   "metadata": {},
   "source": [
    "Now, we can visualize our results and evaluate our model. Visualizing in graph is optional because depending on your model, it will harder to build a 2D graph. However, we can always evaluate performance using a metric.\n",
    "\n",
    "For regression, we often use 𝑅2. Let's do that using sklearn again. To evaluate our model, we will try to compare  𝑅2  on the train set and on the test set."
   ]
  },
  {
   "cell_type": "code",
   "execution_count": 101,
   "id": "d8eed0ee",
   "metadata": {},
   "outputs": [
    {
     "name": "stdout",
     "output_type": "stream",
     "text": [
      "R2 score on train  : 79.49 %\n",
      "R2 score on test  : 77.99 %\n"
     ]
    }
   ],
   "source": [
    "# Assessing the performances of the model:\n",
    "\n",
    "r2_train_set = model.score(X_train, y_train)\n",
    "print(\"R2 score on train  :\", round(r2_train_set*100, 2), \"%\")\n",
    "\n",
    "r2_test_set = model.score(X_test, y_test)\n",
    "print(\"R2 score on test  :\", round(r2_test_set*100, 2), \"%\")\n",
    "# Print R^2 scores"
   ]
  },
  {
   "cell_type": "markdown",
   "id": "699aaea7",
   "metadata": {},
   "source": [
    "Depending on the results, we will be able to tell if the model is performing well and whether it is overfitting or not.\n",
    "- 𝑅2  close to 1 means good performance\n",
    "- 𝑅2𝑡𝑟𝑎𝑖𝑛  >  𝑅2𝑡𝑒𝑠𝑡  means overfitting\n",
    "- 𝑅2𝑡𝑟𝑎𝑖𝑛  <  𝑅2𝑡𝑒𝑠𝑡  means underfitting"
   ]
  },
  {
   "cell_type": "markdown",
   "id": "96a289f1",
   "metadata": {},
   "source": [
    "### 7. Even a simple model will give us more than 70% accuracy. Why?"
   ]
  },
  {
   "cell_type": "markdown",
   "id": "19df29d9",
   "metadata": {},
   "source": [
    "#### Classification report."
   ]
  },
  {
   "cell_type": "code",
   "execution_count": 102,
   "id": "12f19326",
   "metadata": {},
   "outputs": [
    {
     "name": "stdout",
     "output_type": "stream",
     "text": [
      "\u001b[1mpredicted_y_train\u001b[0m\n",
      "              precision    recall  f1-score   support\n",
      "\n",
      "          No       0.83      0.91      0.87      3627\n",
      "         Yes       0.66      0.47      0.55      1303\n",
      "\n",
      "    accuracy                           0.79      4930\n",
      "   macro avg       0.74      0.69      0.71      4930\n",
      "weighted avg       0.78      0.79      0.78      4930\n",
      "\n",
      "\u001b[1mpredicted_y_test\u001b[0m\n",
      "              precision    recall  f1-score   support\n",
      "\n",
      "          No       0.82      0.90      0.86      1547\n",
      "         Yes       0.62      0.45      0.53       566\n",
      "\n",
      "    accuracy                           0.78      2113\n",
      "   macro avg       0.72      0.68      0.69      2113\n",
      "weighted avg       0.77      0.78      0.77      2113\n",
      "\n"
     ]
    }
   ],
   "source": [
    "# Use model to make predictions on train data\n",
    "predicted_y_train = model.predict(X_train)\n",
    "print('\\033[1m' + 'predicted_y_train' + '\\033[0m')\n",
    "print( classification_report(y_train, predicted_y_train))\n",
    "\n",
    "# Use model to make predictions on test data\n",
    "predicted_y_test = model.predict(X_test)\n",
    "print('\\033[1m' + 'predicted_y_test' + '\\033[0m')\n",
    "\n",
    "print(classification_report(y_test, predicted_y_test))\n",
    "#classification_report(true_label, predicted)"
   ]
  },
  {
   "cell_type": "markdown",
   "id": "471b145d",
   "metadata": {},
   "source": [
    "* We can observe that the imbalance is preserved on the test set."
   ]
  },
  {
   "cell_type": "markdown",
   "id": "8c6baf44",
   "metadata": {},
   "source": [
    "#### Confusion Matrix to check the accuracy visually.\n",
    "A confusion matrix is a tool for summarizing the performance of a classification algorithm. A confusion matrix will give us a clear picture of classification model performance and the types of errors produced by the model. It gives us a summary of correct and incorrect predictions broken down by each category. The summary is represented in a tabular form.\n",
    "\n",
    "Four types of outcomes are possible while evaluating a classification model performance. These four outcomes are described below:-\n",
    "\n",
    "**True Positives (TP)** – True Positives occur when we predict an observation belongs to a certain class and the observation actually belongs to that class.\n",
    "\n",
    "**True Negatives (TN)** – True Negatives occur when we predict an observation does not belong to a certain class and the observation actually does not belong to that class.\n",
    "\n",
    "**False Positives (FP)** – False Positives occur when we predict an observation belongs to a certain class but the observation actually does not belong to that class. This type of error is called Type I error.\n",
    "\n",
    "**False Negatives (FN)** – False Negatives occur when we predict an observation does not belong to a certain class but the observation actually belongs to that class. This is a very serious error and it is called Type II error.\n",
    "\n",
    "These four outcomes are summarized in a confusion matrix given below."
   ]
  },
  {
   "cell_type": "code",
   "execution_count": 33,
   "id": "ec1b1085",
   "metadata": {},
   "outputs": [
    {
     "data": {
      "text/plain": [
       "<AxesSubplot:>"
      ]
     },
     "execution_count": 33,
     "metadata": {},
     "output_type": "execute_result"
    },
    {
     "data": {
      "image/png": "[encoded data removed]",
      "text/plain": [
       "<Figure size 432x288 with 2 Axes>"
      ]
     },
     "metadata": {
      "needs_background": "light"
     },
     "output_type": "display_data"
    }
   ],
   "source": [
    "# Confusion Matrix on test set.\n",
    "cm = confusion_matrix(y_test, predicted_y_test)\n",
    "group_names = ['True No', 'False No', 'False Yes', 'True Yes']\n",
    "\n",
    "group_counts = [\"{0:0.0f}\".format(value) for value in cm.flatten()]\n",
    "group_percentages = [\"{0:.2%}\".format(value) for value in cm.flatten()/np.sum(cm)]\n",
    "labels = [f\"{v1}\\n{v2}\\n{v3}\" for v1, v2, v3 in zip(group_names, group_counts, group_percentages)]\n",
    "labels = np.asarray(labels).reshape(2,2)\n",
    "sns.heatmap(cm, annot=labels, fmt='', cmap='Spectral', xticklabels=[\"Predicted No\", \"Predicted Yes\"], yticklabels=[\" True No\", \"True Yes\"])\n"
   ]
  },
  {
   "cell_type": "markdown",
   "id": "dc49fc59",
   "metadata": {},
   "source": [
    "The accuracy over 70% is obtained because the model is trained with a much higher number of *No* outcomes than *Yes*, and as such it predicts with very high accuracy the *No*.\n",
    "\n",
    "However, as we can see in the confusion matrix and in the recall values, the model is quite good at predicting Churn labeled *No* but very bad at predicting Churn labeled *Yes*."
   ]
  },
  {
   "cell_type": "markdown",
   "id": "ee57c8c7",
   "metadata": {},
   "source": [
    "### 8. Synthetic Minority Oversampling TEchnique (SMOTE) \n",
    "is an over sampling technique based on nearest neighbors that adds new points between existing points. \n",
    "- Apply **imblearn.over_sampling.SMOTE** to the dataset. \n",
    "- Build and evaluate the logistic regression model. Is it there any improvement?"
   ]
  },
  {
   "cell_type": "code",
   "execution_count": 119,
   "id": "b59d59c1",
   "metadata": {},
   "outputs": [
    {
     "name": "stdout",
     "output_type": "stream",
     "text": [
      "(7043, 3)\n",
      "(7043,)\n"
     ]
    }
   ],
   "source": [
    "# I Assign new variables to \"X\" and y \"y\" to avoid overlap with previous model.\n",
    "X_smote = X.copy()\n",
    "y_smote = y.copy()\n",
    "print(X_smote.shape)\n",
    "print(y_smote.shape)"
   ]
  },
  {
   "cell_type": "code",
   "execution_count": 123,
   "id": "e66bbdfe",
   "metadata": {},
   "outputs": [],
   "source": [
    "# Apply oversampling to X_train and y_train\n",
    "smote = SMOTE(k_neighbors = 3, random_state = 100)\n",
    "X_train_SMOTE, y_train_SMOTE = smote.fit_resample(X_train,y_train)"
   ]
  },
  {
   "cell_type": "code",
   "execution_count": 122,
   "id": "28d79f70",
   "metadata": {},
   "outputs": [
    {
     "data": {
      "text/plain": [
       "No     3627\n",
       "Yes    1303\n",
       "Name: churn, dtype: int64"
      ]
     },
     "execution_count": 122,
     "metadata": {},
     "output_type": "execute_result"
    }
   ],
   "source": [
    "y_train.value_counts() "
   ]
  },
  {
   "cell_type": "code",
   "execution_count": 124,
   "id": "9aa8080d",
   "metadata": {},
   "outputs": [
    {
     "data": {
      "text/plain": [
       "No     3627\n",
       "Yes    3627\n",
       "Name: churn, dtype: int64"
      ]
     },
     "execution_count": 124,
     "metadata": {},
     "output_type": "execute_result"
    }
   ],
   "source": [
    "# Here we can see that we create synthetic data.\n",
    "y_train_SMOTE.value_counts()"
   ]
  },
  {
   "cell_type": "code",
   "execution_count": 128,
   "id": "1c958584",
   "metadata": {},
   "outputs": [
    {
     "name": "stdout",
     "output_type": "stream",
     "text": [
      "\u001b[1mpred_train_SMOTE\u001b[0m\n",
      "              precision    recall  f1-score   support\n",
      "\n",
      "          No       0.63      0.91      0.74      3627\n",
      "         Yes       0.84      0.46      0.59      3627\n",
      "\n",
      "    accuracy                           0.69      7254\n",
      "   macro avg       0.73      0.69      0.67      7254\n",
      "weighted avg       0.73      0.69      0.67      7254\n",
      "\n",
      "\u001b[1mpred_test_SMOTE\u001b[0m\n",
      "              precision    recall  f1-score   support\n",
      "\n",
      "          No       0.82      0.90      0.86      1547\n",
      "         Yes       0.62      0.45      0.53       566\n",
      "\n",
      "    accuracy                           0.78      2113\n",
      "   macro avg       0.72      0.68      0.69      2113\n",
      "weighted avg       0.77      0.78      0.77      2113\n",
      "\n"
     ]
    }
   ],
   "source": [
    "# Use model to make predictions on train data\n",
    "pred_y_train_SMOTE = model.predict(X_train_SMOTE)\n",
    "print('\\033[1m' + 'pred_train_SMOTE' + '\\033[0m')\n",
    "print(classification_report(y_train_SMOTE, pred_y_train_SMOTE))\n",
    "\n",
    "# Use model to make predictions on test data\n",
    "pred_y_test_SMOTE = model.predict(X_test)\n",
    "print('\\033[1m' + 'pred_test_SMOTE' + '\\033[0m')\n",
    "print(classification_report(y_test, pred_y_test_SMOTE))"
   ]
  },
  {
   "cell_type": "markdown",
   "id": "20e4a055",
   "metadata": {},
   "source": [
    "### 9. Tomek links are pairs of very close instances, but of opposite classes. Removing the instances of the majority class of each pair increases the space between the two classes, facilitating the classification process. Apply imblearn.under_sampling.TomekLinks to the dataset. Build and evaluate the logistic regression model. Is it there any improvement?"
   ]
  },
  {
   "cell_type": "code",
   "execution_count": 129,
   "id": "c8661feb",
   "metadata": {},
   "outputs": [],
   "source": [
    "X_tom = X.copy()\n",
    "y_tom = y.copy()"
   ]
  },
  {
   "cell_type": "code",
   "execution_count": 132,
   "id": "e168cacb",
   "metadata": {},
   "outputs": [
    {
     "data": {
      "text/plain": [
       "No     3287\n",
       "Yes    1303\n",
       "Name: churn, dtype: int64"
      ]
     },
     "metadata": {},
     "output_type": "display_data"
    }
   ],
   "source": [
    "# Apply undersampling to X_train and y_train.\n",
    "\n",
    "tl = TomekLinks('majority')\n",
    "X_train_tl, y_train_tl = tl.fit_resample(X_train, y_train)\n",
    "display(y_train_tl.value_counts())"
   ]
  }
 ],
 "metadata": {
  "kernelspec": {
   "display_name": "Python 3 (ipykernel)",
   "language": "python",
   "name": "python3"
  },
  "language_info": {
   "codemirror_mode": {
    "name": "ipython",
    "version": 3
   },
   "file_extension": ".py",
   "mimetype": "text/x-python",
   "name": "python",
   "nbconvert_exporter": "python",
   "pygments_lexer": "ipython3",
   "version": "3.9.12"
  }
 },
 "nbformat": 4,
 "nbformat_minor": 5
}
